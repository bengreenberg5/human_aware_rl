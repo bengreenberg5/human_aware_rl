{
 "cells": [
  {
   "cell_type": "code",
   "execution_count": 1,
   "id": "8f02f04a",
   "metadata": {},
   "outputs": [],
   "source": [
    "from copy import deepcopy\n",
    "import dill\n",
    "import logging\n",
    "import os\n",
    "from pprint import pprint\n",
    "\n",
    "from human_aware_rl.rllib.rllib import gen_trainer_from_params, load_agent, OvercookedMultiAgent\n",
    "from human_aware_rl.ppo.ppo_rllib_client import my_config\n",
    "from overcooked_ai_py.agents.benchmarking import AgentEvaluator\n",
    "from overcooked_ai_py.mdp.actions import Action\n",
    "from overcooked_ai_py.mdp.layout_generator import DEFAILT_PARAMS_SCHEDULE_FN, LayoutGenerator, MDPParamsGenerator\n",
    "\n",
    "RAY_DIRECTORY = os.path.expanduser(\"~/ray_results\")"
   ]
  },
  {
   "cell_type": "code",
   "execution_count": 2,
   "id": "4f10acd7",
   "metadata": {},
   "outputs": [],
   "source": [
    "def checkpoint_path(run_name, seed=0, checkpoint_num=1):\n",
    "    run_dir = sorted([r for r in os.listdir(RAY_DIRECTORY) if f\"{run_name}_{seed}\" in r])[0]\n",
    "    cp_path = f\"{RAY_DIRECTORY}/{run_dir}/checkpoint_{checkpoint_num}/checkpoint-{checkpoint_num}\"\n",
    "    return cp_path\n",
    "\n",
    "def load_params(run_name, seed=0):\n",
    "    cp_path = checkpoint_path(run_name, seed)\n",
    "    params_path = \"/\".join(cp_path.split(\"/\")[:-1]) + \"/config.pkl\"\n",
    "    params = dill.load(open(params_path, \"rb\"))\n",
    "    return params\n",
    "\n",
    "def load_env(run_name, seed=0):\n",
    "    params = load_params(run_name, seed)\n",
    "    return OvercookedMultiAgent.from_config(params[\"environment_params\"])\n",
    "\n",
    "def load_agents(run_name, seeds, checkpoint_num):        \n",
    "    agents = {}\n",
    "    for seed in seeds:\n",
    "        agents[seed] = load_agent(\n",
    "            checkpoint_path(run_name, seed=seed, checkpoint_num=checkpoint_num), \n",
    "            policy_id=\"ppo\", \n",
    "            agent_index=-1  # set to 0 or 1 when initializing episode\n",
    "        )\n",
    "    return agents"
   ]
  },
  {
   "cell_type": "code",
   "execution_count": 3,
   "id": "8bbd7dc9",
   "metadata": {},
   "outputs": [],
   "source": [
    "def cross_play(mdp, agent_0, agent_1, num_games=100, rnd_obj_prob_thresh=0.0):\n",
    "    params = {\n",
    "        'horizon': 400, \n",
    "        'mlam_params': {\n",
    "            'start_orientations': False,\n",
    "            'wait_allowed': False,\n",
    "            'counter_goals': [],\n",
    "            'counter_drop': [],\n",
    "            'counter_pickup': [],\n",
    "            'same_motion_goals': True\n",
    "        }\n",
    "    }\n",
    "    # start_state_fn = mdp.get_random_start_state_fn(random_start_pos=False, rnd_obj_prob_thresh=rnd_obj_prob_thresh)\n",
    "    \n",
    "    # TODO change to AgentEvaluator.from_mdp_lst\n",
    "    trajs_0_0 = AgentEvaluator.from_mdp(mdp, params).get_agent_pair_trajs(\n",
    "        a0=agent_0, num_games=num_games\n",
    "    )\n",
    "    print(f\"agent 0 self-play: {trajs_0_0[0]['ep_returns'].mean()}\")\n",
    "\n",
    "    trajs_1_1 = AgentEvaluator.from_mdp(mdp, params).get_agent_pair_trajs(\n",
    "        a0=agent_1, num_games=num_games\n",
    "    )\n",
    "    print(f\"agent 1 self-play: {trajs_1_1[0]['ep_returns'].mean()}\")\n",
    "\n",
    "    trajs_0_1 = AgentEvaluator.from_mdp(mdp, params).get_agent_pair_trajs(\n",
    "        a0=agent_0, a1=agent_1, num_games=num_games\n",
    "    )\n",
    "    print(f\"cross-play: {trajs_0_1[0]['ep_returns'].mean()}\")\n",
    "    \n",
    "    return trajs_0_0, trajs_1_1, trajs_0_1"
   ]
  },
  {
   "cell_type": "code",
   "execution_count": 13,
   "id": "aad10450",
   "metadata": {},
   "outputs": [
    {
     "name": "stderr",
     "output_type": "stream",
     "text": [
      "/home/anchorwatt/miniconda3/envs/harl/lib/python3.7/site-packages/tensorflow/python/keras/legacy_tf_layers/core.py:329: UserWarning: `tf.layers.flatten` is deprecated and will be removed in a future version. Please use `tf.keras.layers.Flatten` instead.\n",
      "  warnings.warn('`tf.layers.flatten` is deprecated and '\n",
      "/home/anchorwatt/miniconda3/envs/harl/lib/python3.7/site-packages/tensorflow/python/keras/engine/base_layer_v1.py:1692: UserWarning: `layer.apply` is deprecated and will be removed in a future version. Please use `layer.__call__` method instead.\n",
      "  warnings.warn('`layer.apply` is deprecated and '\n",
      "/home/anchorwatt/miniconda3/envs/harl/lib/python3.7/site-packages/tensorflow/python/keras/legacy_tf_layers/core.py:329: UserWarning: `tf.layers.flatten` is deprecated and will be removed in a future version. Please use `tf.keras.layers.Flatten` instead.\n",
      "  warnings.warn('`tf.layers.flatten` is deprecated and '\n",
      "/home/anchorwatt/miniconda3/envs/harl/lib/python3.7/site-packages/tensorflow/python/keras/engine/base_layer_v1.py:1692: UserWarning: `layer.apply` is deprecated and will be removed in a future version. Please use `layer.__call__` method instead.\n",
      "  warnings.warn('`layer.apply` is deprecated and '\n",
      "/home/anchorwatt/miniconda3/envs/harl/lib/python3.7/site-packages/tensorflow/python/keras/legacy_tf_layers/core.py:329: UserWarning: `tf.layers.flatten` is deprecated and will be removed in a future version. Please use `tf.keras.layers.Flatten` instead.\n",
      "  warnings.warn('`tf.layers.flatten` is deprecated and '\n",
      "/home/anchorwatt/miniconda3/envs/harl/lib/python3.7/site-packages/tensorflow/python/keras/engine/base_layer_v1.py:1692: UserWarning: `layer.apply` is deprecated and will be removed in a future version. Please use `layer.__call__` method instead.\n",
      "  warnings.warn('`layer.apply` is deprecated and '\n",
      "/home/anchorwatt/miniconda3/envs/harl/lib/python3.7/site-packages/tensorflow/python/keras/legacy_tf_layers/core.py:329: UserWarning: `tf.layers.flatten` is deprecated and will be removed in a future version. Please use `tf.keras.layers.Flatten` instead.\n",
      "  warnings.warn('`tf.layers.flatten` is deprecated and '\n",
      "/home/anchorwatt/miniconda3/envs/harl/lib/python3.7/site-packages/tensorflow/python/keras/engine/base_layer_v1.py:1692: UserWarning: `layer.apply` is deprecated and will be removed in a future version. Please use `layer.__call__` method instead.\n",
      "  warnings.warn('`layer.apply` is deprecated and '\n",
      "/home/anchorwatt/miniconda3/envs/harl/lib/python3.7/site-packages/tensorflow/python/keras/legacy_tf_layers/core.py:329: UserWarning: `tf.layers.flatten` is deprecated and will be removed in a future version. Please use `tf.keras.layers.Flatten` instead.\n",
      "  warnings.warn('`tf.layers.flatten` is deprecated and '\n",
      "/home/anchorwatt/miniconda3/envs/harl/lib/python3.7/site-packages/tensorflow/python/keras/engine/base_layer_v1.py:1692: UserWarning: `layer.apply` is deprecated and will be removed in a future version. Please use `layer.__call__` method instead.\n",
      "  warnings.warn('`layer.apply` is deprecated and '\n",
      "/home/anchorwatt/miniconda3/envs/harl/lib/python3.7/site-packages/tensorflow/python/keras/legacy_tf_layers/core.py:329: UserWarning: `tf.layers.flatten` is deprecated and will be removed in a future version. Please use `tf.keras.layers.Flatten` instead.\n",
      "  warnings.warn('`tf.layers.flatten` is deprecated and '\n",
      "/home/anchorwatt/miniconda3/envs/harl/lib/python3.7/site-packages/tensorflow/python/keras/engine/base_layer_v1.py:1692: UserWarning: `layer.apply` is deprecated and will be removed in a future version. Please use `layer.__call__` method instead.\n",
      "  warnings.warn('`layer.apply` is deprecated and '\n",
      "2021-07-28 12:59:53,432\tINFO trainable.py:217 -- Getting current IP.\n",
      "2021-07-28 12:59:53,631\tINFO trainable.py:217 -- Getting current IP.\n",
      "2021-07-28 12:59:53,634\tINFO trainable.py:423 -- Restored on 192.168.1.233 from checkpoint: /home/anchorwatt/ray_results/ring_1_2021-07-28_09-04-39c5zudb8n/checkpoint_601/checkpoint-601\n",
      "2021-07-28 12:59:53,635\tINFO trainable.py:430 -- Current state after restoring: {'_iteration': 601, '_timesteps_total': 7212000, '_time_total': 12697.656646728516, '_episodes_total': 18030}\n",
      "/home/anchorwatt/miniconda3/envs/harl/lib/python3.7/site-packages/tensorflow/python/keras/legacy_tf_layers/core.py:329: UserWarning: `tf.layers.flatten` is deprecated and will be removed in a future version. Please use `tf.keras.layers.Flatten` instead.\n",
      "  warnings.warn('`tf.layers.flatten` is deprecated and '\n",
      "/home/anchorwatt/miniconda3/envs/harl/lib/python3.7/site-packages/tensorflow/python/keras/engine/base_layer_v1.py:1692: UserWarning: `layer.apply` is deprecated and will be removed in a future version. Please use `layer.__call__` method instead.\n",
      "  warnings.warn('`layer.apply` is deprecated and '\n",
      "/home/anchorwatt/miniconda3/envs/harl/lib/python3.7/site-packages/tensorflow/python/keras/legacy_tf_layers/core.py:329: UserWarning: `tf.layers.flatten` is deprecated and will be removed in a future version. Please use `tf.keras.layers.Flatten` instead.\n",
      "  warnings.warn('`tf.layers.flatten` is deprecated and '\n",
      "/home/anchorwatt/miniconda3/envs/harl/lib/python3.7/site-packages/tensorflow/python/keras/engine/base_layer_v1.py:1692: UserWarning: `layer.apply` is deprecated and will be removed in a future version. Please use `layer.__call__` method instead.\n",
      "  warnings.warn('`layer.apply` is deprecated and '\n",
      "/home/anchorwatt/miniconda3/envs/harl/lib/python3.7/site-packages/tensorflow/python/keras/legacy_tf_layers/core.py:329: UserWarning: `tf.layers.flatten` is deprecated and will be removed in a future version. Please use `tf.keras.layers.Flatten` instead.\n",
      "  warnings.warn('`tf.layers.flatten` is deprecated and '\n",
      "/home/anchorwatt/miniconda3/envs/harl/lib/python3.7/site-packages/tensorflow/python/keras/engine/base_layer_v1.py:1692: UserWarning: `layer.apply` is deprecated and will be removed in a future version. Please use `layer.__call__` method instead.\n",
      "  warnings.warn('`layer.apply` is deprecated and '\n",
      "/home/anchorwatt/miniconda3/envs/harl/lib/python3.7/site-packages/tensorflow/python/keras/legacy_tf_layers/core.py:329: UserWarning: `tf.layers.flatten` is deprecated and will be removed in a future version. Please use `tf.keras.layers.Flatten` instead.\n",
      "  warnings.warn('`tf.layers.flatten` is deprecated and '\n",
      "/home/anchorwatt/miniconda3/envs/harl/lib/python3.7/site-packages/tensorflow/python/keras/engine/base_layer_v1.py:1692: UserWarning: `layer.apply` is deprecated and will be removed in a future version. Please use `layer.__call__` method instead.\n",
      "  warnings.warn('`layer.apply` is deprecated and '\n",
      "/home/anchorwatt/miniconda3/envs/harl/lib/python3.7/site-packages/tensorflow/python/keras/legacy_tf_layers/core.py:329: UserWarning: `tf.layers.flatten` is deprecated and will be removed in a future version. Please use `tf.keras.layers.Flatten` instead.\n",
      "  warnings.warn('`tf.layers.flatten` is deprecated and '\n",
      "/home/anchorwatt/miniconda3/envs/harl/lib/python3.7/site-packages/tensorflow/python/keras/engine/base_layer_v1.py:1692: UserWarning: `layer.apply` is deprecated and will be removed in a future version. Please use `layer.__call__` method instead.\n",
      "  warnings.warn('`layer.apply` is deprecated and '\n",
      "/home/anchorwatt/miniconda3/envs/harl/lib/python3.7/site-packages/tensorflow/python/keras/legacy_tf_layers/core.py:329: UserWarning: `tf.layers.flatten` is deprecated and will be removed in a future version. Please use `tf.keras.layers.Flatten` instead.\n",
      "  warnings.warn('`tf.layers.flatten` is deprecated and '\n",
      "/home/anchorwatt/miniconda3/envs/harl/lib/python3.7/site-packages/tensorflow/python/keras/engine/base_layer_v1.py:1692: UserWarning: `layer.apply` is deprecated and will be removed in a future version. Please use `layer.__call__` method instead.\n",
      "  warnings.warn('`layer.apply` is deprecated and '\n",
      "/home/anchorwatt/miniconda3/envs/harl/lib/python3.7/site-packages/tensorflow/python/keras/legacy_tf_layers/core.py:329: UserWarning: `tf.layers.flatten` is deprecated and will be removed in a future version. Please use `tf.keras.layers.Flatten` instead.\n",
      "  warnings.warn('`tf.layers.flatten` is deprecated and '\n",
      "/home/anchorwatt/miniconda3/envs/harl/lib/python3.7/site-packages/tensorflow/python/keras/engine/base_layer_v1.py:1692: UserWarning: `layer.apply` is deprecated and will be removed in a future version. Please use `layer.__call__` method instead.\n",
      "  warnings.warn('`layer.apply` is deprecated and '\n"
     ]
    },
    {
     "name": "stderr",
     "output_type": "stream",
     "text": [
      "/home/anchorwatt/miniconda3/envs/harl/lib/python3.7/site-packages/tensorflow/python/keras/legacy_tf_layers/core.py:329: UserWarning: `tf.layers.flatten` is deprecated and will be removed in a future version. Please use `tf.keras.layers.Flatten` instead.\n",
      "  warnings.warn('`tf.layers.flatten` is deprecated and '\n",
      "/home/anchorwatt/miniconda3/envs/harl/lib/python3.7/site-packages/tensorflow/python/keras/engine/base_layer_v1.py:1692: UserWarning: `layer.apply` is deprecated and will be removed in a future version. Please use `layer.__call__` method instead.\n",
      "  warnings.warn('`layer.apply` is deprecated and '\n",
      "/home/anchorwatt/miniconda3/envs/harl/lib/python3.7/site-packages/tensorflow/python/keras/legacy_tf_layers/core.py:329: UserWarning: `tf.layers.flatten` is deprecated and will be removed in a future version. Please use `tf.keras.layers.Flatten` instead.\n",
      "  warnings.warn('`tf.layers.flatten` is deprecated and '\n",
      "/home/anchorwatt/miniconda3/envs/harl/lib/python3.7/site-packages/tensorflow/python/keras/engine/base_layer_v1.py:1692: UserWarning: `layer.apply` is deprecated and will be removed in a future version. Please use `layer.__call__` method instead.\n",
      "  warnings.warn('`layer.apply` is deprecated and '\n",
      "2021-07-28 13:00:08,575\tINFO trainable.py:180 -- _setup took 14.833 seconds. If your trainable is slow to initialize, consider setting reuse_actors=True to reduce actor creation overheads.\n",
      "2021-07-28 13:00:08,577\tINFO trainable.py:217 -- Getting current IP.\n",
      "2021-07-28 13:00:08,688\tINFO trainable.py:217 -- Getting current IP.\n",
      "2021-07-28 13:00:08,690\tINFO trainable.py:423 -- Restored on 192.168.1.233 from checkpoint: /home/anchorwatt/ray_results/ring_1_2021-07-28_09-04-39c5zudb8n/checkpoint_601/checkpoint-601\n",
      "2021-07-28 13:00:08,691\tINFO trainable.py:430 -- Current state after restoring: {'_iteration': 601, '_timesteps_total': 7212000, '_time_total': 12697.656646728516, '_episodes_total': 18030}\n",
      "Avg rew: 0.00 (std: 0.00, se: 0.00); avg len: 400.00; : 100%|██████████████████████████████████████████████████████████████████████████████████████████████████████████████████████████████████████████████████| 10/10 [00:30<00:00,  3.03s/it]\n"
     ]
    },
    {
     "name": "stdout",
     "output_type": "stream",
     "text": [
      "Skipping trajectory consistency checking because MDP was recognized as variable. Trajectory consistency checking is not yet supported for variable MDPs.\n",
      "agent 0 self-play: 0.0\n"
     ]
    },
    {
     "name": "stderr",
     "output_type": "stream",
     "text": [
      "Avg rew: 0.00 (std: 0.00, se: 0.00); avg len: 400.00; : 100%|██████████████████████████████████████████████████████████████████████████████████████████████████████████████████████████████████████████████████| 10/10 [00:16<00:00,  1.67s/it]\n"
     ]
    },
    {
     "name": "stdout",
     "output_type": "stream",
     "text": [
      "Skipping trajectory consistency checking because MDP was recognized as variable. Trajectory consistency checking is not yet supported for variable MDPs.\n",
      "agent 1 self-play: 0.0\n"
     ]
    },
    {
     "name": "stderr",
     "output_type": "stream",
     "text": [
      "Avg rew: 0.00 (std: 0.00, se: 0.00); avg len: 400.00; : 100%|██████████████████████████████████████████████████████████████████████████████████████████████████████████████████████████████████████████████████| 10/10 [00:26<00:00,  2.62s/it]\n"
     ]
    },
    {
     "name": "stdout",
     "output_type": "stream",
     "text": [
      "Skipping trajectory consistency checking because MDP was recognized as variable. Trajectory consistency checking is not yet supported for variable MDPs.\n"
     ]
    },
    {
     "name": "stderr",
     "output_type": "stream",
     "text": [
      "Avg rew: 0.00 (std: 0.00, se: 0.00); avg len: 400.00; : 100%|██████████████████████████████████████████████████████████████████████████████████████████████████████████████████████████████████████████████████| 10/10 [00:20<00:00,  2.07s/it]"
     ]
    },
    {
     "name": "stdout",
     "output_type": "stream",
     "text": [
      "Skipping trajectory consistency checking because MDP was recognized as variable. Trajectory consistency checking is not yet supported for variable MDPs.\n",
      "cross-play: 0.0\n"
     ]
    },
    {
     "name": "stderr",
     "output_type": "stream",
     "text": [
      "\n"
     ]
    }
   ],
   "source": [
    "# mdp = LayoutGenerator(MDPParamsGenerator(DEFAILT_PARAMS_SCHEDULE_FN)).generate_padded_mdp()\n",
    "mdp = load_env(\"ring\", 1).base_env.mdp\n",
    "path_0 = checkpoint_path(\"ring\", seed=1, checkpoint_num=601)\n",
    "path_1 = checkpoint_path(\"ring\", seed=1, checkpoint_num=601)\n",
    "num_games = 10\n",
    "rnd_obj_prob_thresh = 0.0\n",
    "\n",
    "agent_0 = load_agent(path_0, policy_id=\"ppo\", agent_index=0)\n",
    "agent_1 = load_agent(path_1, policy_id=\"ppo\", agent_index=1)\n",
    "trajs_0_0, trajs_1_1, trajs_0_1 = cross_play(mdp, agent_0, agent_1, num_games, rnd_obj_prob_thresh)"
   ]
  },
  {
   "cell_type": "code",
   "execution_count": 14,
   "id": "cdfd8428",
   "metadata": {},
   "outputs": [
    {
     "data": {
      "application/vnd.jupyter.widget-view+json": {
       "model_id": "e33ecdbb02fd413ca93efe25a48a8961",
       "version_major": 2,
       "version_minor": 0
      },
      "text/plain": [
       "interactive(children=(IntSlider(value=0, description='timestep', max=399), Output()), _dom_classes=('widget-in…"
      ]
     },
     "metadata": {},
     "output_type": "display_data"
    }
   ],
   "source": [
    "from overcooked_ai_py.visualization.state_visualizer import *\n",
    "\n",
    "StateVisualizer().display_rendered_trajectory(\n",
    "    trajs_1_1[0], img_directory_path=\"/home/anchorwatt/traj_0_0\"\n",
    ")"
   ]
  },
  {
   "cell_type": "code",
   "execution_count": null,
   "id": "1472aaf8",
   "metadata": {},
   "outputs": [],
   "source": []
  },
  {
   "cell_type": "code",
   "execution_count": null,
   "id": "23c80d14",
   "metadata": {},
   "outputs": [],
   "source": []
  }
 ],
 "metadata": {
  "kernelspec": {
   "display_name": "Python 3 (ipykernel)",
   "language": "python",
   "name": "python3"
  },
  "language_info": {
   "codemirror_mode": {
    "name": "ipython",
    "version": 3
   },
   "file_extension": ".py",
   "mimetype": "text/x-python",
   "name": "python",
   "nbconvert_exporter": "python",
   "pygments_lexer": "ipython3",
   "version": "3.7.10"
  }
 },
 "nbformat": 4,
 "nbformat_minor": 5
}
