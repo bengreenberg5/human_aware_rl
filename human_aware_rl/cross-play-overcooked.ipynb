{
 "cells": [
  {
   "cell_type": "code",
   "execution_count": 1,
   "id": "8f02f04a",
   "metadata": {},
   "outputs": [],
   "source": [
    "from copy import deepcopy\n",
    "import dill\n",
    "import logging\n",
    "import os\n",
    "from pprint import pprint\n",
    "\n",
    "from human_aware_rl.rllib.rllib import gen_trainer_from_params, load_agent, OvercookedMultiAgent\n",
    "from human_aware_rl.ppo.ppo_rllib_client import my_config\n",
    "from overcooked_ai_py.agents.benchmarking import AgentEvaluator\n",
    "from overcooked_ai_py.mdp.actions import Action\n",
    "from overcooked_ai_py.mdp.layout_generator import DEFAILT_PARAMS_SCHEDULE_FN, LayoutGenerator, MDPParamsGenerator\n",
    "\n",
    "RAY_DIRECTORY = os.path.expanduser(\"~/ray_results\")"
   ]
  },
  {
   "cell_type": "code",
   "execution_count": 2,
   "id": "4f10acd7",
   "metadata": {},
   "outputs": [],
   "source": [
    "def checkpoint_path(run_name, seed=0, checkpoint_num=1):\n",
    "    run_dir = sorted([r for r in os.listdir(RAY_DIRECTORY) if f\"{run_name}_{seed}\" in r])[0]\n",
    "    cp_path = f\"{RAY_DIRECTORY}/{run_dir}/checkpoint_{checkpoint_num}/checkpoint-{checkpoint_num}\"\n",
    "    return cp_path\n",
    "\n",
    "def load_params(run_name, seed=0):\n",
    "    cp_path = checkpoint_path(\"10k\", 1024)\n",
    "    params_path = \"/\".join(cp_path.split(\"/\")[:-1]) + \"/config.pkl\"\n",
    "    params = dill.load(open(params_path, \"rb\"))\n",
    "    return params\n",
    "\n",
    "def load_env(run_name, seed=0):\n",
    "    params = load_params(run_name, seed)\n",
    "    return OvercookedMultiAgent.from_config(params[\"environment_params\"])\n",
    "\n",
    "def load_agents(run_name, seeds, checkpoint_num):        \n",
    "    agents = {}\n",
    "    for seed in seeds:\n",
    "        agents[seed] = load_agent(\n",
    "            checkpoint_path(run_name, seed=seed, checkpoint_num=checkpoint_num), \n",
    "            policy_id=\"ppo\", \n",
    "            agent_index=-1  # set to 0 or 1 when initializing episode\n",
    "        )\n",
    "    return agents"
   ]
  },
  {
   "cell_type": "code",
   "execution_count": 3,
   "id": "8bbd7dc9",
   "metadata": {},
   "outputs": [],
   "source": [
    "def cross_play(mdp, agent_0, agent_1, num_games=100, rnd_obj_prob_thresh=0.0):\n",
    "    params = {\n",
    "        'horizon': 400, \n",
    "        'mlam_params': {\n",
    "            'start_orientations': False,\n",
    "            'wait_allowed': False,\n",
    "            'counter_goals': [],\n",
    "            'counter_drop': [],\n",
    "            'counter_pickup': [],\n",
    "            'same_motion_goals': True\n",
    "        }\n",
    "    }\n",
    "    start_state_fn = mdp.get_random_start_state_fn(random_start_pos=False, rnd_obj_prob_thresh=rnd_obj_prob_thresh)\n",
    "    \n",
    "    trajs_0_0 = AgentEvaluator.from_mdp(mdp, params).get_agent_pair_trajs(\n",
    "        a0=agent_0, num_games=num_games, start_state_fn=start_state_fn\n",
    "    )\n",
    "    print(f\"agent 0 self-play: {trajs_0_0[0]['ep_returns'].mean()}\")\n",
    "\n",
    "    trajs_1_1 = AgentEvaluator.from_mdp(mdp, params).get_agent_pair_trajs(\n",
    "        a0=agent_1, num_games=num_games, start_state_fn=start_state_fn\n",
    "    )\n",
    "    print(f\"agent 1 self-play: {trajs_1_1[0]['ep_returns'].mean()}\")\n",
    "\n",
    "    trajs_0_1 = AgentEvaluator.from_mdp(mdp, params).get_agent_pair_trajs(\n",
    "        a0=agent_0, a1=agent_1, num_games=num_games, start_state_fn=start_state_fn\n",
    "    )\n",
    "    print(f\"cross-play: {trajs_0_1[0]['ep_returns'].mean()}\")\n",
    "    \n",
    "    return trajs_0_0, trajs_1_1, trajs_0_1"
   ]
  },
  {
   "cell_type": "code",
   "execution_count": 4,
   "id": "aad10450",
   "metadata": {},
   "outputs": [
    {
     "name": "stdout",
     "output_type": "stream",
     "text": [
      "Computing MotionPlanner to be saved in /home/anchorwatt/human_aware_rl/overcooked_ai/src/overcooked_ai_py/data/planners/cramped_room_mp.pkl\n",
      "It took 0.03579378128051758 seconds to create mp\n"
     ]
    },
    {
     "name": "stderr",
     "output_type": "stream",
     "text": [
      "2021-07-22 15:15:09,779\tINFO resource_spec.py:212 -- Starting Ray with 13.33 GiB memory available for workers and up to 6.68 GiB for objects. You can adjust these settings with ray.init(memory=<bytes>, object_store_memory=<bytes>).\n",
      "2021-07-22 15:15:10,263\tINFO trainer.py:421 -- Tip: set 'eager': true or the --eager flag to enable TensorFlow eager execution\n",
      "2021-07-22 15:15:10,331\tINFO trainer.py:580 -- Current log_level is WARN. For more information, set 'log_level': 'INFO' / 'DEBUG' or use the -v and -vv flags.\n",
      "/home/anchorwatt/miniconda3/envs/harl/lib/python3.7/site-packages/tensorflow/python/keras/legacy_tf_layers/core.py:329: UserWarning: `tf.layers.flatten` is deprecated and will be removed in a future version. Please use `tf.keras.layers.Flatten` instead.\n",
      "  warnings.warn('`tf.layers.flatten` is deprecated and '\n",
      "/home/anchorwatt/miniconda3/envs/harl/lib/python3.7/site-packages/tensorflow/python/keras/engine/base_layer_v1.py:1692: UserWarning: `layer.apply` is deprecated and will be removed in a future version. Please use `layer.__call__` method instead.\n",
      "  warnings.warn('`layer.apply` is deprecated and '\n",
      "2021-07-22 15:15:14,433\tINFO trainable.py:217 -- Getting current IP.\n",
      "2021-07-22 15:15:14,492\tINFO trainable.py:217 -- Getting current IP.\n",
      "2021-07-22 15:15:14,493\tINFO trainable.py:423 -- Restored on 10.0.1.74 from checkpoint: /home/anchorwatt/ray_results/10k_1024_2021-07-17_19-09-08lxahhjhf/checkpoint_6601/checkpoint-6601\n",
      "2021-07-22 15:15:14,493\tINFO trainable.py:430 -- Current state after restoring: {'_iteration': 6601, '_timesteps_total': 79212000, '_time_total': 92236.27584052086, '_episodes_total': 198030}\n",
      "/home/anchorwatt/miniconda3/envs/harl/lib/python3.7/site-packages/tensorflow/python/keras/legacy_tf_layers/core.py:329: UserWarning: `tf.layers.flatten` is deprecated and will be removed in a future version. Please use `tf.keras.layers.Flatten` instead.\n",
      "  warnings.warn('`tf.layers.flatten` is deprecated and '\n",
      "/home/anchorwatt/miniconda3/envs/harl/lib/python3.7/site-packages/tensorflow/python/keras/engine/base_layer_v1.py:1692: UserWarning: `layer.apply` is deprecated and will be removed in a future version. Please use `layer.__call__` method instead.\n",
      "  warnings.warn('`layer.apply` is deprecated and '\n",
      "/home/anchorwatt/miniconda3/envs/harl/lib/python3.7/site-packages/tensorflow/python/keras/legacy_tf_layers/core.py:329: UserWarning: `tf.layers.flatten` is deprecated and will be removed in a future version. Please use `tf.keras.layers.Flatten` instead.\n",
      "  warnings.warn('`tf.layers.flatten` is deprecated and '\n",
      "/home/anchorwatt/miniconda3/envs/harl/lib/python3.7/site-packages/tensorflow/python/keras/engine/base_layer_v1.py:1692: UserWarning: `layer.apply` is deprecated and will be removed in a future version. Please use `layer.__call__` method instead.\n",
      "  warnings.warn('`layer.apply` is deprecated and '\n",
      "/home/anchorwatt/miniconda3/envs/harl/lib/python3.7/site-packages/tensorflow/python/keras/legacy_tf_layers/core.py:329: UserWarning: `tf.layers.flatten` is deprecated and will be removed in a future version. Please use `tf.keras.layers.Flatten` instead.\n",
      "  warnings.warn('`tf.layers.flatten` is deprecated and '\n",
      "/home/anchorwatt/miniconda3/envs/harl/lib/python3.7/site-packages/tensorflow/python/keras/engine/base_layer_v1.py:1692: UserWarning: `layer.apply` is deprecated and will be removed in a future version. Please use `layer.__call__` method instead.\n",
      "  warnings.warn('`layer.apply` is deprecated and '\n",
      "/home/anchorwatt/miniconda3/envs/harl/lib/python3.7/site-packages/tensorflow/python/keras/legacy_tf_layers/core.py:329: UserWarning: `tf.layers.flatten` is deprecated and will be removed in a future version. Please use `tf.keras.layers.Flatten` instead.\n",
      "  warnings.warn('`tf.layers.flatten` is deprecated and '\n",
      "/home/anchorwatt/miniconda3/envs/harl/lib/python3.7/site-packages/tensorflow/python/keras/engine/base_layer_v1.py:1692: UserWarning: `layer.apply` is deprecated and will be removed in a future version. Please use `layer.__call__` method instead.\n",
      "  warnings.warn('`layer.apply` is deprecated and '\n",
      "2021-07-22 15:15:18,785\tINFO trainable.py:217 -- Getting current IP.\n",
      "2021-07-22 15:15:18,860\tINFO trainable.py:217 -- Getting current IP.\n",
      "2021-07-22 15:15:18,862\tINFO trainable.py:423 -- Restored on 10.0.1.74 from checkpoint: /home/anchorwatt/ray_results/mod_1024_2021-07-22_02-34-46zpk6i07h/checkpoint_1426/checkpoint-1426\n",
      "2021-07-22 15:15:18,863\tINFO trainable.py:430 -- Current state after restoring: {'_iteration': 1426, '_timesteps_total': 17112000, '_time_total': 26294.825267076492, '_episodes_total': 42780}\n",
      "Avg rew: 80.00 (std: 12.65, se: 4.00); avg len: 400.00; : 100%|██████████████████████████████| 10/10 [00:08<00:00,  1.20it/s]\n"
     ]
    },
    {
     "name": "stdout",
     "output_type": "stream",
     "text": [
      "Skipping trajectory consistency checking because MDP was recognized as variable. Trajectory consistency checking is not yet supported for variable MDPs.\n",
      "agent 0 self-play: 80.0\n"
     ]
    },
    {
     "name": "stderr",
     "output_type": "stream",
     "text": [
      "Avg rew: 0.00 (std: 0.00, se: 0.00); avg len: 400.00; : 100%|████████████████████████████████| 10/10 [00:08<00:00,  1.18it/s]\n"
     ]
    },
    {
     "name": "stdout",
     "output_type": "stream",
     "text": [
      "Skipping trajectory consistency checking because MDP was recognized as variable. Trajectory consistency checking is not yet supported for variable MDPs.\n",
      "agent 1 self-play: 0.0\n"
     ]
    },
    {
     "name": "stderr",
     "output_type": "stream",
     "text": [
      "Avg rew: 26.00 (std: 9.17, se: 2.90); avg len: 400.00; : 100%|███████████████████████████████| 10/10 [00:08<00:00,  1.24it/s]\n"
     ]
    },
    {
     "name": "stdout",
     "output_type": "stream",
     "text": [
      "Skipping trajectory consistency checking because MDP was recognized as variable. Trajectory consistency checking is not yet supported for variable MDPs.\n"
     ]
    },
    {
     "name": "stderr",
     "output_type": "stream",
     "text": [
      "Avg rew: 28.00 (std: 18.33, se: 5.80); avg len: 400.00; : 100%|██████████████████████████████| 10/10 [00:08<00:00,  1.24it/s]"
     ]
    },
    {
     "name": "stdout",
     "output_type": "stream",
     "text": [
      "Skipping trajectory consistency checking because MDP was recognized as variable. Trajectory consistency checking is not yet supported for variable MDPs.\n",
      "cross-play: 26.0\n"
     ]
    },
    {
     "name": "stderr",
     "output_type": "stream",
     "text": [
      "\n"
     ]
    }
   ],
   "source": [
    "# mdp = LayoutGenerator(MDPParamsGenerator(DEFAILT_PARAMS_SCHEDULE_FN)).generate_padded_mdp()\n",
    "mdp = load_env(\"10k\", 1024).base_env.mdp\n",
    "path_0 = checkpoint_path(\"10k\", seed=1024, checkpoint_num=6601)\n",
    "path_1 = checkpoint_path(\"mod\", seed=1024, checkpoint_num=1426)\n",
    "num_games = 10\n",
    "rnd_obj_prob_thresh = 0.0\n",
    "\n",
    "agent_0 = load_agent(path_0, policy_id=\"ppo\", agent_index=0)\n",
    "agent_1 = load_agent(path_1, policy_id=\"ppo\", agent_index=1)\n",
    "trajs_0_0, trajs_1_1, trajs_0_1 = cross_play(mdp, agent_0, agent_1, num_games, rnd_obj_prob_thresh)"
   ]
  },
  {
   "cell_type": "code",
   "execution_count": 5,
   "id": "cdfd8428",
   "metadata": {},
   "outputs": [
    {
     "name": "stdout",
     "output_type": "stream",
     "text": [
      "pygame 1.9.5\n",
      "Hello from the pygame community. https://www.pygame.org/contribute.html\n"
     ]
    },
    {
     "data": {
      "application/vnd.jupyter.widget-view+json": {
       "model_id": "7d05a440c7ed4638ac84559463cfaaf7",
       "version_major": 2,
       "version_minor": 0
      },
      "text/plain": [
       "interactive(children=(IntSlider(value=0, description='timestep', max=399), Output()), _dom_classes=('widget-in…"
      ]
     },
     "metadata": {},
     "output_type": "display_data"
    }
   ],
   "source": [
    "from overcooked_ai_py.visualization.state_visualizer import *\n",
    "\n",
    "StateVisualizer().display_rendered_trajectory(\n",
    "    trajs_1_1[0], img_directory_path=\"/home/anchorwatt/traj_0_0\"\n",
    ")"
   ]
  },
  {
   "cell_type": "code",
   "execution_count": null,
   "id": "8a4320f8",
   "metadata": {},
   "outputs": [],
   "source": [
    "\n",
    "\n",
    "\n",
    "\n",
    "\n",
    "\n",
    "\n",
    "\n",
    "\n",
    "\n",
    "\n",
    "\n",
    "\n",
    "\n",
    "\n",
    "\n",
    "\n",
    "\n",
    "\n",
    "\n",
    "\n",
    "\n",
    "\n",
    "\n",
    "\n",
    "\n",
    "\n"
   ]
  },
  {
   "cell_type": "code",
   "execution_count": null,
   "id": "23b14202",
   "metadata": {},
   "outputs": [],
   "source": []
  }
 ],
 "metadata": {
  "kernelspec": {
   "display_name": "Python 3 (ipykernel)",
   "language": "python",
   "name": "python3"
  },
  "language_info": {
   "codemirror_mode": {
    "name": "ipython",
    "version": 3
   },
   "file_extension": ".py",
   "mimetype": "text/x-python",
   "name": "python",
   "nbconvert_exporter": "python",
   "pygments_lexer": "ipython3",
   "version": "3.7.10"
  }
 },
 "nbformat": 4,
 "nbformat_minor": 5
}
